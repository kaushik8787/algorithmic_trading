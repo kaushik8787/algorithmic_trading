{
 "cells": [
  {
   "cell_type": "code",
   "execution_count": 1,
   "id": "43bc1a18-97c9-4d73-8992-efa484789b7a",
   "metadata": {},
   "outputs": [],
   "source": [
    "import pandas as pd"
   ]
  },
  {
   "cell_type": "code",
   "execution_count": 9,
   "id": "a9105c86-2476-4198-a4b8-12a4d7a9cf61",
   "metadata": {},
   "outputs": [],
   "source": [
    "import numpy as np\n",
    "import matplotlib.pyplot as plt\n"
   ]
  },
  {
   "cell_type": "code",
   "execution_count": 3,
   "id": "e664fdbf-eaee-413d-a871-95e6b0b12f60",
   "metadata": {},
   "outputs": [],
   "source": [
    "df = pd.read_csv(\"trading.csv\")"
   ]
  },
  {
   "cell_type": "code",
   "execution_count": 4,
   "id": "88f1fe3d-eb1e-43c7-a752-316f1f18b119",
   "metadata": {},
   "outputs": [
    {
     "data": {
      "text/html": [
       "<div>\n",
       "<style scoped>\n",
       "    .dataframe tbody tr th:only-of-type {\n",
       "        vertical-align: middle;\n",
       "    }\n",
       "\n",
       "    .dataframe tbody tr th {\n",
       "        vertical-align: top;\n",
       "    }\n",
       "\n",
       "    .dataframe thead th {\n",
       "        text-align: right;\n",
       "    }\n",
       "</style>\n",
       "<table border=\"1\" class=\"dataframe\">\n",
       "  <thead>\n",
       "    <tr style=\"text-align: right;\">\n",
       "      <th></th>\n",
       "      <th>Ticker</th>\n",
       "      <th>Price</th>\n",
       "      <th>One Year Price Return</th>\n",
       "      <th>One Year Return Percentile</th>\n",
       "      <th>Six Month Price Return</th>\n",
       "      <th>Six Month Return Percentile</th>\n",
       "      <th>Three Month Price Return</th>\n",
       "      <th>Three Month Return Percentile</th>\n",
       "      <th>One Month Price Return</th>\n",
       "      <th>One Month Return Percentile</th>\n",
       "      <th>Momentum Score</th>\n",
       "      <th>Number of Shares to Buy</th>\n",
       "    </tr>\n",
       "  </thead>\n",
       "  <tbody>\n",
       "    <tr>\n",
       "      <th>0</th>\n",
       "      <td>FANG</td>\n",
       "      <td>$102.81</td>\n",
       "      <td>167.05%</td>\n",
       "      <td>98.42%</td>\n",
       "      <td>110.39%</td>\n",
       "      <td>99.80%</td>\n",
       "      <td>23.90%</td>\n",
       "      <td>95.84%</td>\n",
       "      <td>15.58%</td>\n",
       "      <td>97.23%</td>\n",
       "      <td>97.82%</td>\n",
       "      <td>786</td>\n",
       "    </tr>\n",
       "    <tr>\n",
       "      <th>1</th>\n",
       "      <td>NVDA</td>\n",
       "      <td>$836.32</td>\n",
       "      <td>117.59%</td>\n",
       "      <td>92.67%</td>\n",
       "      <td>57.08%</td>\n",
       "      <td>96.24%</td>\n",
       "      <td>47.60%</td>\n",
       "      <td>100.00%</td>\n",
       "      <td>25.29%</td>\n",
       "      <td>99.60%</td>\n",
       "      <td>97.13%</td>\n",
       "      <td>96</td>\n",
       "    </tr>\n",
       "    <tr>\n",
       "      <th>2</th>\n",
       "      <td>DXC</td>\n",
       "      <td>$42.36</td>\n",
       "      <td>156.16%</td>\n",
       "      <td>97.43%</td>\n",
       "      <td>58.69%</td>\n",
       "      <td>96.83%</td>\n",
       "      <td>31.47%</td>\n",
       "      <td>99.01%</td>\n",
       "      <td>6.28%</td>\n",
       "      <td>83.56%</td>\n",
       "      <td>94.21%</td>\n",
       "      <td>1909</td>\n",
       "    </tr>\n",
       "    <tr>\n",
       "      <th>3</th>\n",
       "      <td>OXY</td>\n",
       "      <td>$32.72</td>\n",
       "      <td>92.75%</td>\n",
       "      <td>85.54%</td>\n",
       "      <td>91.00%</td>\n",
       "      <td>99.21%</td>\n",
       "      <td>20.26%</td>\n",
       "      <td>92.28%</td>\n",
       "      <td>15.90%</td>\n",
       "      <td>97.43%</td>\n",
       "      <td>93.61%</td>\n",
       "      <td>2472</td>\n",
       "    </tr>\n",
       "    <tr>\n",
       "      <th>4</th>\n",
       "      <td>IT</td>\n",
       "      <td>$258.87</td>\n",
       "      <td>107.52%</td>\n",
       "      <td>91.09%</td>\n",
       "      <td>57.23%</td>\n",
       "      <td>96.44%</td>\n",
       "      <td>32.85%</td>\n",
       "      <td>99.60%</td>\n",
       "      <td>6.90%</td>\n",
       "      <td>84.75%</td>\n",
       "      <td>92.97%</td>\n",
       "      <td>312</td>\n",
       "    </tr>\n",
       "  </tbody>\n",
       "</table>\n",
       "</div>"
      ],
      "text/plain": [
       "  Ticker    Price One Year Price Return One Year Return Percentile  \\\n",
       "0   FANG  $102.81               167.05%                     98.42%   \n",
       "1   NVDA  $836.32               117.59%                     92.67%   \n",
       "2    DXC   $42.36               156.16%                     97.43%   \n",
       "3    OXY   $32.72                92.75%                     85.54%   \n",
       "4     IT  $258.87               107.52%                     91.09%   \n",
       "\n",
       "  Six Month Price Return Six Month Return Percentile Three Month Price Return  \\\n",
       "0                110.39%                      99.80%                   23.90%   \n",
       "1                 57.08%                      96.24%                   47.60%   \n",
       "2                 58.69%                      96.83%                   31.47%   \n",
       "3                 91.00%                      99.21%                   20.26%   \n",
       "4                 57.23%                      96.44%                   32.85%   \n",
       "\n",
       "  Three Month Return Percentile One Month Price Return  \\\n",
       "0                        95.84%                 15.58%   \n",
       "1                       100.00%                 25.29%   \n",
       "2                        99.01%                  6.28%   \n",
       "3                        92.28%                 15.90%   \n",
       "4                        99.60%                  6.90%   \n",
       "\n",
       "  One Month Return Percentile Momentum Score  Number of Shares to Buy  \n",
       "0                      97.23%         97.82%                      786  \n",
       "1                      99.60%         97.13%                       96  \n",
       "2                      83.56%         94.21%                     1909  \n",
       "3                      97.43%         93.61%                     2472  \n",
       "4                      84.75%         92.97%                      312  "
      ]
     },
     "execution_count": 4,
     "metadata": {},
     "output_type": "execute_result"
    }
   ],
   "source": [
    "df.head()"
   ]
  },
  {
   "cell_type": "code",
   "execution_count": 10,
   "id": "7dbd5202-f94b-4be0-b309-b7685cb7c35c",
   "metadata": {},
   "outputs": [
    {
     "name": "stdout",
     "output_type": "stream",
     "text": [
      "   Ticker   Price  One Year Price Return\n",
      "6      LB   76.99                 398.86\n",
      "13    DVN   30.45                 190.82\n",
      "20    GPS   34.20                 174.18\n",
      "0    FANG  102.81                 167.05\n",
      "50    MGM   45.18                 163.78\n"
     ]
    }
   ],
   "source": [
    "# Convert price and return columns from object to float for analysis\n",
    "df['Price'] = df['Price'].replace('[\\$,]', '', regex=True).astype(float)\n",
    "df['One Year Price Return'] = df['One Year Price Return'].replace('%', '', regex=True).astype(float)\n",
    "\n",
    "# Sort the dataframe by One Year Price Return and display the top 5\n",
    "top_5_one_year_return = df.sort_values(by='One Year Price Return', ascending=False).head(5)\n",
    "print(top_5_one_year_return[['Ticker', 'Price', 'One Year Price Return']])"
   ]
  },
  {
   "cell_type": "code",
   "execution_count": 11,
   "id": "33579359-7524-458a-89e1-b75da4cde7fe",
   "metadata": {},
   "outputs": [
    {
     "data": {
      "image/png": "[encoded data removed]",
      "text/plain": [
       "<Figure size 640x480 with 1 Axes>"
      ]
     },
     "metadata": {},
     "output_type": "display_data"
    }
   ],
   "source": [
    "\n",
    "\n",
    "# Convert one month price return from object to float for plotting\n",
    "df['One Month Price Return'] = df['One Month Price Return'].replace('%', '', regex=True).astype(float)\n",
    "\n",
    "# Plotting the histogram for One Month Price Return\n",
    "plt.figure(facecolor='white')\n",
    "plt.hist(df['One Month Price Return'], bins=10, color='blue', alpha=0.7)\n",
    "plt.title('Distribution of One Month Price Returns')\n",
    "plt.xlabel('One Month Price Return (%)')\n",
    "plt.ylabel('Frequency')\n",
    "plt.grid(True)\n",
    "plt.show()"
   ]
  },
  {
   "cell_type": "code",
   "execution_count": 13,
   "id": "180c4ac2-8fe2-4d3f-bcf4-dd4169b1ba97",
   "metadata": {},
   "outputs": [
    {
     "name": "stdout",
     "output_type": "stream",
     "text": [
      "                            Momentum Score  One Year Return Percentile\n",
      "Momentum Score                    1.000000                    0.442577\n",
      "One Year Return Percentile        0.442577                    1.000000\n"
     ]
    }
   ],
   "source": [
    "# Convert momentum score and one year return percentile from object to float for correlation analysis\n",
    "df['Momentum Score'] = df['Momentum Score'].replace('%', '', regex=True).astype(float)\n",
    "df['One Year Return Percentile'] = df['One Year Return Percentile'].replace('%', '', regex=True).astype(float)\n",
    "\n",
    "# Calculate the correlation coefficient\n",
    "correlation = df[['Momentum Score', 'One Year Return Percentile']].corr()\n",
    "print(correlation)"
   ]
  },
  {
   "cell_type": "code",
   "execution_count": null,
   "id": "dc385c41-99b2-4025-b4bc-af78ab98e40a",
   "metadata": {},
   "outputs": [],
   "source": []
  }
 ],
 "metadata": {
  "kernelspec": {
   "display_name": "Python 3 (ipykernel)",
   "language": "python",
   "name": "python3"
  },
  "language_info": {
   "codemirror_mode": {
    "name": "ipython",
    "version": 3
   },
   "file_extension": ".py",
   "mimetype": "text/x-python",
   "name": "python",
   "nbconvert_exporter": "python",
   "pygments_lexer": "ipython3",
   "version": "3.11.7"
  }
 },
 "nbformat": 4,
 "nbformat_minor": 5
}
